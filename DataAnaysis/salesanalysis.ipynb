{
 "cells": [
  {
   "cell_type": "code",
   "execution_count": null,
   "metadata": {},
   "outputs": [],
   "source": [
    "import pandas as pd\n",
    "import os\n",
    "\n",
    "data_frames = []\n",
    "\n",
    "files = os.listdir('Pandas-Data-Science-Tasks-master/SalesAnalysis/Sales_Data')\n",
    "print(str(files))\n",
    "for file in files:\n",
    "    if file.endswith('.csv'):\n",
    "        file_path = os.path.join('Pandas-Data-Science-Tasks-master/SalesAnalysis/Sales_Data/'+file)\n",
    "        df = pd.read_csv(file_path)\n",
    "        data_frames.append(df)\n",
    "total_data = pd.concat(data_frames)\n",
    "total_data.to_csv('sales-data.csv',index=False)\n",
    "total_data.shape"
   ]
  },
  {
   "cell_type": "markdown",
   "metadata": {},
   "source": [
    "Add Month column to total_data"
   ]
  },
  {
   "cell_type": "code",
   "execution_count": null,
   "metadata": {},
   "outputs": [],
   "source": [
    "total_data = total_data[total_data['Order Date'].str[0:2] != 'Or']\n",
    "total_data = total_data.dropna()"
   ]
  },
  {
   "cell_type": "markdown",
   "metadata": {},
   "source": [
    "Data Munging"
   ]
  },
  {
   "cell_type": "code",
   "execution_count": 22,
   "metadata": {},
   "outputs": [
    {
     "data": {
      "text/html": [
       "<div>\n",
       "<style scoped>\n",
       "    .dataframe tbody tr th:only-of-type {\n",
       "        vertical-align: middle;\n",
       "    }\n",
       "\n",
       "    .dataframe tbody tr th {\n",
       "        vertical-align: top;\n",
       "    }\n",
       "\n",
       "    .dataframe thead th {\n",
       "        text-align: right;\n",
       "    }\n",
       "</style>\n",
       "<table border=\"1\" class=\"dataframe\">\n",
       "  <thead>\n",
       "    <tr style=\"text-align: right;\">\n",
       "      <th></th>\n",
       "      <th>Order ID</th>\n",
       "      <th>Product</th>\n",
       "      <th>Quantity Ordered</th>\n",
       "      <th>Price Each</th>\n",
       "      <th>Order Date</th>\n",
       "      <th>Purchase Address</th>\n",
       "      <th>Month</th>\n",
       "      <th>sales</th>\n",
       "    </tr>\n",
       "  </thead>\n",
       "  <tbody>\n",
       "    <tr>\n",
       "      <th>0</th>\n",
       "      <td>176558</td>\n",
       "      <td>USB-C Charging Cable</td>\n",
       "      <td>2</td>\n",
       "      <td>11.95</td>\n",
       "      <td>04/19/19 08:46</td>\n",
       "      <td>917 1st St, Dallas, TX 75001</td>\n",
       "      <td>4</td>\n",
       "      <td>11.9511.95</td>\n",
       "    </tr>\n",
       "    <tr>\n",
       "      <th>2</th>\n",
       "      <td>176559</td>\n",
       "      <td>Bose SoundSport Headphones</td>\n",
       "      <td>1</td>\n",
       "      <td>99.99</td>\n",
       "      <td>04/07/19 22:30</td>\n",
       "      <td>682 Chestnut St, Boston, MA 02215</td>\n",
       "      <td>4</td>\n",
       "      <td>99.99</td>\n",
       "    </tr>\n",
       "    <tr>\n",
       "      <th>3</th>\n",
       "      <td>176560</td>\n",
       "      <td>Google Phone</td>\n",
       "      <td>1</td>\n",
       "      <td>600.00</td>\n",
       "      <td>04/12/19 14:38</td>\n",
       "      <td>669 Spruce St, Los Angeles, CA 90001</td>\n",
       "      <td>4</td>\n",
       "      <td>600</td>\n",
       "    </tr>\n",
       "    <tr>\n",
       "      <th>4</th>\n",
       "      <td>176560</td>\n",
       "      <td>Wired Headphones</td>\n",
       "      <td>1</td>\n",
       "      <td>11.99</td>\n",
       "      <td>04/12/19 14:38</td>\n",
       "      <td>669 Spruce St, Los Angeles, CA 90001</td>\n",
       "      <td>4</td>\n",
       "      <td>11.99</td>\n",
       "    </tr>\n",
       "    <tr>\n",
       "      <th>5</th>\n",
       "      <td>176561</td>\n",
       "      <td>Wired Headphones</td>\n",
       "      <td>1</td>\n",
       "      <td>11.99</td>\n",
       "      <td>04/30/19 09:27</td>\n",
       "      <td>333 8th St, Los Angeles, CA 90001</td>\n",
       "      <td>4</td>\n",
       "      <td>11.99</td>\n",
       "    </tr>\n",
       "  </tbody>\n",
       "</table>\n",
       "</div>"
      ],
      "text/plain": [
       "  Order ID                     Product  Quantity Ordered  Price Each  \\\n",
       "0   176558        USB-C Charging Cable                 2       11.95   \n",
       "2   176559  Bose SoundSport Headphones                 1       99.99   \n",
       "3   176560                Google Phone                 1      600.00   \n",
       "4   176560            Wired Headphones                 1       11.99   \n",
       "5   176561            Wired Headphones                 1       11.99   \n",
       "\n",
       "       Order Date                      Purchase Address  Month       sales  \n",
       "0  04/19/19 08:46          917 1st St, Dallas, TX 75001      4  11.9511.95  \n",
       "2  04/07/19 22:30     682 Chestnut St, Boston, MA 02215      4       99.99  \n",
       "3  04/12/19 14:38  669 Spruce St, Los Angeles, CA 90001      4         600  \n",
       "4  04/12/19 14:38  669 Spruce St, Los Angeles, CA 90001      4       11.99  \n",
       "5  04/30/19 09:27     333 8th St, Los Angeles, CA 90001      4       11.99  "
      ]
     },
     "execution_count": 22,
     "metadata": {},
     "output_type": "execute_result"
    }
   ],
   "source": [
    "total_data['Month'] = total_data['Order Date'].str[0:2]\n",
    "total_data['Month'] = total_data['Month'].astype('int32')\n",
    "total_data['Quantity Ordered'] = pd.to_numeric(total_data['Quantity Ordered'])\n",
    "total_data['Price Each'] = pd.to_numeric(total_data['Price Each'])\n",
    "total_data.head()\n"
   ]
  },
  {
   "cell_type": "markdown",
   "metadata": {},
   "source": [
    "Which Month has highest sales"
   ]
  },
  {
   "cell_type": "code",
   "execution_count": 21,
   "metadata": {},
   "outputs": [
    {
     "name": "stdout",
     "output_type": "stream",
     "text": [
      "                Order ID                     Product  Quantity Ordered  \\\n",
      "sales                                                                    \n",
      "109.99            319648                20in Monitor                 1   \n",
      "109.99109.99      319366                20in Monitor                 2   \n",
      "11.95             319638        USB-C Charging Cable                 1   \n",
      "11.9511.95        319501        USB-C Charging Cable                 2   \n",
      "11.9511.9511.95   318692        USB-C Charging Cable                 3   \n",
      "...                  ...                         ...               ...   \n",
      "99.99             319670  Bose SoundSport Headphones                 1   \n",
      "99.9999.99        319608  Bose SoundSport Headphones                 2   \n",
      "99.9999.9999.99   234028  Bose SoundSport Headphones                 3   \n",
      "999.99            319664             ThinkPad Laptop                 1   \n",
      "999.99999.99      278637             ThinkPad Laptop                 2   \n",
      "\n",
      "                Price Each      Order Date  \\\n",
      "sales                                        \n",
      "109.99              109.99  12/31/19 22:48   \n",
      "109.99109.99        109.99  12/31/19 20:51   \n",
      "11.95                11.95  12/31/19 22:54   \n",
      "11.9511.95           11.95  12/31/19 23:16   \n",
      "11.9511.9511.95      11.95  12/29/19 15:48   \n",
      "...                    ...             ...   \n",
      "99.99                99.99  12/31/19 22:50   \n",
      "99.9999.99           99.99  12/30/19 13:22   \n",
      "99.9999.9999.99      99.99  07/29/19 19:51   \n",
      "999.99              999.99  12/31/19 22:57   \n",
      "999.99999.99        999.99  10/02/19 16:06   \n",
      "\n",
      "                                       Purchase Address  Month  \n",
      "sales                                                           \n",
      "109.99                 999 Willow St, Seattle, WA 98101     12  \n",
      "109.99109.99       973 Hill St, San Francisco, CA 94016     12  \n",
      "11.95              999 Willow St, Los Angeles, CA 90001     12  \n",
      "11.9511.95                999 Main St, Austin, TX 73301     12  \n",
      "11.9511.9511.95  996 Center St, San Francisco, CA 94016     12  \n",
      "...                                                 ...    ...  \n",
      "99.99                  999 Wilson St, Atlanta, GA 30301     12  \n",
      "99.9999.99              999 Spruce St, Austin, TX 73301     12  \n",
      "99.9999.9999.99   289 North St, San Francisco, CA 94016      7  \n",
      "999.99             999 Wilson St, Los Angeles, CA 90001     12  \n",
      "999.99999.99        850 6th St, New York City, NY 10001     10  \n",
      "\n",
      "[62 rows x 7 columns]\n"
     ]
    }
   ],
   "source": [
    "# Creating a sales column in total_data dataframe\n",
    "total_data['sales'] = total_data['Quantity Ordered'] * total_data['Price Each']\n",
    "total_data.groupby('Month').sum()['sales']\n",
    "max_sales = total_data.groupby([total_data['sales']]).max()\n",
    "# total_data.head()\n",
    "print(max_sales)"
   ]
  },
  {
   "cell_type": "code",
   "execution_count": null,
   "metadata": {},
   "outputs": [],
   "source": []
  }
 ],
 "metadata": {
  "kernelspec": {
   "display_name": "Python 3",
   "language": "python",
   "name": "python3"
  },
  "language_info": {
   "codemirror_mode": {
    "name": "ipython",
    "version": 3
   },
   "file_extension": ".py",
   "mimetype": "text/x-python",
   "name": "python",
   "nbconvert_exporter": "python",
   "pygments_lexer": "ipython3",
   "version": "3.11.4"
  }
 },
 "nbformat": 4,
 "nbformat_minor": 2
}
